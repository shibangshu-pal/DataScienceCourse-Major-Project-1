{
  "nbformat": 4,
  "nbformat_minor": 0,
  "metadata": {
    "colab": {
      "provenance": [],
      "collapsed_sections": []
    },
    "kernelspec": {
      "name": "python3",
      "display_name": "Python 3"
    },
    "language_info": {
      "name": "python"
    }
  },
  "cells": [
    {
      "cell_type": "code",
      "execution_count": null,
      "metadata": {
        "colab": {
          "base_uri": "https://localhost:8080/",
          "height": 424
        },
        "id": "a0D9vwBwQwx5",
        "outputId": "402495d9-6671-43c5-a116-0c1239ed00e2"
      },
      "outputs": [
        {
          "output_type": "execute_result",
          "data": {
            "text/plain": [
              "      BHK   Rent  Size         Floor    Area Type             Area Locality  \\\n",
              "0       2  10000  1100    0 out of 2   Super Area                    Bandel   \n",
              "1       2  20000   800    1 out of 3   Super Area  Phool Bagan, Kankurgachi   \n",
              "2       2  17000  1000    1 out of 3   Super Area   Salt Lake City Sector 2   \n",
              "3       2  10000   800    1 out of 2   Super Area               Dumdum Park   \n",
              "4       2   7500   850    1 out of 2  Carpet Area             South Dum Dum   \n",
              "...   ...    ...   ...           ...          ...                       ...   \n",
              "4741    2  15000  1000    3 out of 5  Carpet Area              Bandam Kommu   \n",
              "4742    3  29000  2000    1 out of 4   Super Area      Manikonda, Hyderabad   \n",
              "4743    3  35000  1750    3 out of 5  Carpet Area      Himayath Nagar, NH 7   \n",
              "4744    3  45000  1500  23 out of 34  Carpet Area                Gachibowli   \n",
              "4745    2  15000  1000    4 out of 5  Carpet Area           Suchitra Circle   \n",
              "\n",
              "           City Furnishing Status  Tenant Preferred  Bathroom Point of Contact  \n",
              "0       Kolkata       Unfurnished  Bachelors/Family         2    Contact Owner  \n",
              "1       Kolkata    Semi-Furnished  Bachelors/Family         1    Contact Owner  \n",
              "2       Kolkata    Semi-Furnished  Bachelors/Family         1    Contact Owner  \n",
              "3       Kolkata       Unfurnished  Bachelors/Family         1    Contact Owner  \n",
              "4       Kolkata       Unfurnished         Bachelors         1    Contact Owner  \n",
              "...         ...               ...               ...       ...              ...  \n",
              "4741  Hyderabad    Semi-Furnished  Bachelors/Family         2    Contact Owner  \n",
              "4742  Hyderabad    Semi-Furnished  Bachelors/Family         3    Contact Owner  \n",
              "4743  Hyderabad    Semi-Furnished  Bachelors/Family         3    Contact Agent  \n",
              "4744  Hyderabad    Semi-Furnished            Family         2    Contact Agent  \n",
              "4745  Hyderabad       Unfurnished         Bachelors         2    Contact Owner  \n",
              "\n",
              "[4746 rows x 11 columns]"
            ],
            "text/html": [
              "\n",
              "  <div id=\"df-845bc566-a996-40b7-a5c6-8835337a788f\">\n",
              "    <div class=\"colab-df-container\">\n",
              "      <div>\n",
              "<style scoped>\n",
              "    .dataframe tbody tr th:only-of-type {\n",
              "        vertical-align: middle;\n",
              "    }\n",
              "\n",
              "    .dataframe tbody tr th {\n",
              "        vertical-align: top;\n",
              "    }\n",
              "\n",
              "    .dataframe thead th {\n",
              "        text-align: right;\n",
              "    }\n",
              "</style>\n",
              "<table border=\"1\" class=\"dataframe\">\n",
              "  <thead>\n",
              "    <tr style=\"text-align: right;\">\n",
              "      <th></th>\n",
              "      <th>BHK</th>\n",
              "      <th>Rent</th>\n",
              "      <th>Size</th>\n",
              "      <th>Floor</th>\n",
              "      <th>Area Type</th>\n",
              "      <th>Area Locality</th>\n",
              "      <th>City</th>\n",
              "      <th>Furnishing Status</th>\n",
              "      <th>Tenant Preferred</th>\n",
              "      <th>Bathroom</th>\n",
              "      <th>Point of Contact</th>\n",
              "    </tr>\n",
              "  </thead>\n",
              "  <tbody>\n",
              "    <tr>\n",
              "      <th>0</th>\n",
              "      <td>2</td>\n",
              "      <td>10000</td>\n",
              "      <td>1100</td>\n",
              "      <td>0 out of 2</td>\n",
              "      <td>Super Area</td>\n",
              "      <td>Bandel</td>\n",
              "      <td>Kolkata</td>\n",
              "      <td>Unfurnished</td>\n",
              "      <td>Bachelors/Family</td>\n",
              "      <td>2</td>\n",
              "      <td>Contact Owner</td>\n",
              "    </tr>\n",
              "    <tr>\n",
              "      <th>1</th>\n",
              "      <td>2</td>\n",
              "      <td>20000</td>\n",
              "      <td>800</td>\n",
              "      <td>1 out of 3</td>\n",
              "      <td>Super Area</td>\n",
              "      <td>Phool Bagan, Kankurgachi</td>\n",
              "      <td>Kolkata</td>\n",
              "      <td>Semi-Furnished</td>\n",
              "      <td>Bachelors/Family</td>\n",
              "      <td>1</td>\n",
              "      <td>Contact Owner</td>\n",
              "    </tr>\n",
              "    <tr>\n",
              "      <th>2</th>\n",
              "      <td>2</td>\n",
              "      <td>17000</td>\n",
              "      <td>1000</td>\n",
              "      <td>1 out of 3</td>\n",
              "      <td>Super Area</td>\n",
              "      <td>Salt Lake City Sector 2</td>\n",
              "      <td>Kolkata</td>\n",
              "      <td>Semi-Furnished</td>\n",
              "      <td>Bachelors/Family</td>\n",
              "      <td>1</td>\n",
              "      <td>Contact Owner</td>\n",
              "    </tr>\n",
              "    <tr>\n",
              "      <th>3</th>\n",
              "      <td>2</td>\n",
              "      <td>10000</td>\n",
              "      <td>800</td>\n",
              "      <td>1 out of 2</td>\n",
              "      <td>Super Area</td>\n",
              "      <td>Dumdum Park</td>\n",
              "      <td>Kolkata</td>\n",
              "      <td>Unfurnished</td>\n",
              "      <td>Bachelors/Family</td>\n",
              "      <td>1</td>\n",
              "      <td>Contact Owner</td>\n",
              "    </tr>\n",
              "    <tr>\n",
              "      <th>4</th>\n",
              "      <td>2</td>\n",
              "      <td>7500</td>\n",
              "      <td>850</td>\n",
              "      <td>1 out of 2</td>\n",
              "      <td>Carpet Area</td>\n",
              "      <td>South Dum Dum</td>\n",
              "      <td>Kolkata</td>\n",
              "      <td>Unfurnished</td>\n",
              "      <td>Bachelors</td>\n",
              "      <td>1</td>\n",
              "      <td>Contact Owner</td>\n",
              "    </tr>\n",
              "    <tr>\n",
              "      <th>...</th>\n",
              "      <td>...</td>\n",
              "      <td>...</td>\n",
              "      <td>...</td>\n",
              "      <td>...</td>\n",
              "      <td>...</td>\n",
              "      <td>...</td>\n",
              "      <td>...</td>\n",
              "      <td>...</td>\n",
              "      <td>...</td>\n",
              "      <td>...</td>\n",
              "      <td>...</td>\n",
              "    </tr>\n",
              "    <tr>\n",
              "      <th>4741</th>\n",
              "      <td>2</td>\n",
              "      <td>15000</td>\n",
              "      <td>1000</td>\n",
              "      <td>3 out of 5</td>\n",
              "      <td>Carpet Area</td>\n",
              "      <td>Bandam Kommu</td>\n",
              "      <td>Hyderabad</td>\n",
              "      <td>Semi-Furnished</td>\n",
              "      <td>Bachelors/Family</td>\n",
              "      <td>2</td>\n",
              "      <td>Contact Owner</td>\n",
              "    </tr>\n",
              "    <tr>\n",
              "      <th>4742</th>\n",
              "      <td>3</td>\n",
              "      <td>29000</td>\n",
              "      <td>2000</td>\n",
              "      <td>1 out of 4</td>\n",
              "      <td>Super Area</td>\n",
              "      <td>Manikonda, Hyderabad</td>\n",
              "      <td>Hyderabad</td>\n",
              "      <td>Semi-Furnished</td>\n",
              "      <td>Bachelors/Family</td>\n",
              "      <td>3</td>\n",
              "      <td>Contact Owner</td>\n",
              "    </tr>\n",
              "    <tr>\n",
              "      <th>4743</th>\n",
              "      <td>3</td>\n",
              "      <td>35000</td>\n",
              "      <td>1750</td>\n",
              "      <td>3 out of 5</td>\n",
              "      <td>Carpet Area</td>\n",
              "      <td>Himayath Nagar, NH 7</td>\n",
              "      <td>Hyderabad</td>\n",
              "      <td>Semi-Furnished</td>\n",
              "      <td>Bachelors/Family</td>\n",
              "      <td>3</td>\n",
              "      <td>Contact Agent</td>\n",
              "    </tr>\n",
              "    <tr>\n",
              "      <th>4744</th>\n",
              "      <td>3</td>\n",
              "      <td>45000</td>\n",
              "      <td>1500</td>\n",
              "      <td>23 out of 34</td>\n",
              "      <td>Carpet Area</td>\n",
              "      <td>Gachibowli</td>\n",
              "      <td>Hyderabad</td>\n",
              "      <td>Semi-Furnished</td>\n",
              "      <td>Family</td>\n",
              "      <td>2</td>\n",
              "      <td>Contact Agent</td>\n",
              "    </tr>\n",
              "    <tr>\n",
              "      <th>4745</th>\n",
              "      <td>2</td>\n",
              "      <td>15000</td>\n",
              "      <td>1000</td>\n",
              "      <td>4 out of 5</td>\n",
              "      <td>Carpet Area</td>\n",
              "      <td>Suchitra Circle</td>\n",
              "      <td>Hyderabad</td>\n",
              "      <td>Unfurnished</td>\n",
              "      <td>Bachelors</td>\n",
              "      <td>2</td>\n",
              "      <td>Contact Owner</td>\n",
              "    </tr>\n",
              "  </tbody>\n",
              "</table>\n",
              "<p>4746 rows × 11 columns</p>\n",
              "</div>\n",
              "      <button class=\"colab-df-convert\" onclick=\"convertToInteractive('df-845bc566-a996-40b7-a5c6-8835337a788f')\"\n",
              "              title=\"Convert this dataframe to an interactive table.\"\n",
              "              style=\"display:none;\">\n",
              "        \n",
              "  <svg xmlns=\"http://www.w3.org/2000/svg\" height=\"24px\"viewBox=\"0 0 24 24\"\n",
              "       width=\"24px\">\n",
              "    <path d=\"M0 0h24v24H0V0z\" fill=\"none\"/>\n",
              "    <path d=\"M18.56 5.44l.94 2.06.94-2.06 2.06-.94-2.06-.94-.94-2.06-.94 2.06-2.06.94zm-11 1L8.5 8.5l.94-2.06 2.06-.94-2.06-.94L8.5 2.5l-.94 2.06-2.06.94zm10 10l.94 2.06.94-2.06 2.06-.94-2.06-.94-.94-2.06-.94 2.06-2.06.94z\"/><path d=\"M17.41 7.96l-1.37-1.37c-.4-.4-.92-.59-1.43-.59-.52 0-1.04.2-1.43.59L10.3 9.45l-7.72 7.72c-.78.78-.78 2.05 0 2.83L4 21.41c.39.39.9.59 1.41.59.51 0 1.02-.2 1.41-.59l7.78-7.78 2.81-2.81c.8-.78.8-2.07 0-2.86zM5.41 20L4 18.59l7.72-7.72 1.47 1.35L5.41 20z\"/>\n",
              "  </svg>\n",
              "      </button>\n",
              "      \n",
              "  <style>\n",
              "    .colab-df-container {\n",
              "      display:flex;\n",
              "      flex-wrap:wrap;\n",
              "      gap: 12px;\n",
              "    }\n",
              "\n",
              "    .colab-df-convert {\n",
              "      background-color: #E8F0FE;\n",
              "      border: none;\n",
              "      border-radius: 50%;\n",
              "      cursor: pointer;\n",
              "      display: none;\n",
              "      fill: #1967D2;\n",
              "      height: 32px;\n",
              "      padding: 0 0 0 0;\n",
              "      width: 32px;\n",
              "    }\n",
              "\n",
              "    .colab-df-convert:hover {\n",
              "      background-color: #E2EBFA;\n",
              "      box-shadow: 0px 1px 2px rgba(60, 64, 67, 0.3), 0px 1px 3px 1px rgba(60, 64, 67, 0.15);\n",
              "      fill: #174EA6;\n",
              "    }\n",
              "\n",
              "    [theme=dark] .colab-df-convert {\n",
              "      background-color: #3B4455;\n",
              "      fill: #D2E3FC;\n",
              "    }\n",
              "\n",
              "    [theme=dark] .colab-df-convert:hover {\n",
              "      background-color: #434B5C;\n",
              "      box-shadow: 0px 1px 3px 1px rgba(0, 0, 0, 0.15);\n",
              "      filter: drop-shadow(0px 1px 2px rgba(0, 0, 0, 0.3));\n",
              "      fill: #FFFFFF;\n",
              "    }\n",
              "  </style>\n",
              "\n",
              "      <script>\n",
              "        const buttonEl =\n",
              "          document.querySelector('#df-845bc566-a996-40b7-a5c6-8835337a788f button.colab-df-convert');\n",
              "        buttonEl.style.display =\n",
              "          google.colab.kernel.accessAllowed ? 'block' : 'none';\n",
              "\n",
              "        async function convertToInteractive(key) {\n",
              "          const element = document.querySelector('#df-845bc566-a996-40b7-a5c6-8835337a788f');\n",
              "          const dataTable =\n",
              "            await google.colab.kernel.invokeFunction('convertToInteractive',\n",
              "                                                     [key], {});\n",
              "          if (!dataTable) return;\n",
              "\n",
              "          const docLinkHtml = 'Like what you see? Visit the ' +\n",
              "            '<a target=\"_blank\" href=https://colab.research.google.com/notebooks/data_table.ipynb>data table notebook</a>'\n",
              "            + ' to learn more about interactive tables.';\n",
              "          element.innerHTML = '';\n",
              "          dataTable['output_type'] = 'display_data';\n",
              "          await google.colab.output.renderOutput(dataTable, element);\n",
              "          const docLink = document.createElement('div');\n",
              "          docLink.innerHTML = docLinkHtml;\n",
              "          element.appendChild(docLink);\n",
              "        }\n",
              "      </script>\n",
              "    </div>\n",
              "  </div>\n",
              "  "
            ]
          },
          "metadata": {},
          "execution_count": 1
        }
      ],
      "source": [
        "import pandas as pd\n",
        "df = pd.read_csv('https://raw.githubusercontent.com/shibangshu-pal/DataScienceCourse-Major-Project-1/main/House_Rent_Dataset.csv')\n",
        "# accessing the csv dataset from GitHub\n",
        "df"
      ]
    },
    {
      "cell_type": "code",
      "source": [
        "import numpy as np\n",
        "df_floor = np.array(df.iloc[:4746,3].values)\n",
        "floors = []\n",
        "for i in df_floor:\n",
        "    c=''\n",
        "    for j in i:\n",
        "      if j!=' ':\n",
        "        c = c+j\n",
        "      else: \n",
        "        break\n",
        "    floors.append(int(c))\n",
        "#floors array stores the data of the floor in which the flat is situated in"
      ],
      "metadata": {
        "id": "Xp6s2_LdRmq2"
      },
      "execution_count": null,
      "outputs": []
    },
    {
      "cell_type": "code",
      "source": [
        "df.info()"
      ],
      "metadata": {
        "colab": {
          "base_uri": "https://localhost:8080/"
        },
        "id": "Q3p_CICxy1Q8",
        "outputId": "bd9abdd1-98b9-4efc-9e45-df39db3cdfef"
      },
      "execution_count": null,
      "outputs": [
        {
          "output_type": "stream",
          "name": "stdout",
          "text": [
            "<class 'pandas.core.frame.DataFrame'>\n",
            "RangeIndex: 4746 entries, 0 to 4745\n",
            "Data columns (total 11 columns):\n",
            " #   Column             Non-Null Count  Dtype \n",
            "---  ------             --------------  ----- \n",
            " 0   BHK                4746 non-null   int64 \n",
            " 1   Rent               4746 non-null   int64 \n",
            " 2   Size               4746 non-null   int64 \n",
            " 3   Floor              4746 non-null   object\n",
            " 4   Area Type          4746 non-null   object\n",
            " 5   Area Locality      4746 non-null   object\n",
            " 6   City               4746 non-null   object\n",
            " 7   Furnishing Status  4746 non-null   object\n",
            " 8   Tenant Preferred   4746 non-null   object\n",
            " 9   Bathroom           4746 non-null   int64 \n",
            " 10  Point of Contact   4746 non-null   object\n",
            "dtypes: int64(4), object(7)\n",
            "memory usage: 408.0+ KB\n"
          ]
        }
      ]
    },
    {
      "cell_type": "code",
      "source": [
        "furnishing = []\n",
        "#0 for unfurnished\n",
        "#1 for semi-furnished\n",
        "#2 for fully furnished\n",
        "fur = df.iloc[:4746,7].values\n",
        "for i in fur:\n",
        "  if i == 'Unfurnished':\n",
        "    furnishing.append(0)\n",
        "  elif i == 'Semi-Furnished':\n",
        "    furnishing.append(1)\n",
        "  else:\n",
        "    furnishing.append(2)\n",
        "#furnishing array grades the flats on type of furnishing"
      ],
      "metadata": {
        "id": "D-PrIi1MzTPr"
      },
      "execution_count": null,
      "outputs": []
    },
    {
      "cell_type": "code",
      "source": [
        "city = np.array(df.iloc[:,6].values)\n",
        "#array containing cities"
      ],
      "metadata": {
        "id": "dAskXY0N049U"
      },
      "execution_count": null,
      "outputs": []
    },
    {
      "cell_type": "code",
      "source": [
        "bhk = np.array(df.iloc[:,0].values) \n",
        "b_room = np.array(df.iloc[:,9].values)\n",
        "#bhk - stores the bhk of the apartment\n",
        "#b_room - stores the number of bathrooms in the apartment"
      ],
      "metadata": {
        "id": "uCyNnYRv2VYs"
      },
      "execution_count": null,
      "outputs": []
    },
    {
      "cell_type": "code",
      "source": [
        "#storing rent\n",
        "rent = np.array(df.iloc[:,1].values)"
      ],
      "metadata": {
        "id": "Ylocxmut5A78"
      },
      "execution_count": null,
      "outputs": []
    },
    {
      "cell_type": "code",
      "source": [
        "p = np.array(df['City'].unique())\n",
        "p"
      ],
      "metadata": {
        "colab": {
          "base_uri": "https://localhost:8080/"
        },
        "id": "zSfGoO7N3g1z",
        "outputId": "ddd809d6-1354-412b-9154-196782e24e77"
      },
      "execution_count": null,
      "outputs": [
        {
          "output_type": "execute_result",
          "data": {
            "text/plain": [
              "array(['Kolkata', 'Mumbai', 'Bangalore', 'Delhi', 'Chennai', 'Hyderabad'],\n",
              "      dtype=object)"
            ]
          },
          "metadata": {},
          "execution_count": 26
        }
      ]
    },
    {
      "cell_type": "code",
      "source": [
        "#Exploratory Data Analysis \n",
        "#1. We calculate the average rent of flats in the cities\n",
        "import matplotlib.pyplot as plt\n",
        "import seaborn as sns\n",
        "\n",
        "avg = [0,0,0,0,0,0]\n",
        "counter = [0,0,0,0,0,0]\n",
        "#the locations respectively stand for Kolkata, Mumbai, Bangalore, Delhi, Chennai and Hyderabad respectively\n",
        "for i in range(0,4746):\n",
        "  if city[i] == 'Kolkata':\n",
        "        avg[0] += rent[i]\n",
        "        counter[0] += 1\n",
        "  elif city[i] == 'Mumbai':\n",
        "        avg[1] += rent[i]\n",
        "        counter[1] += 1\n",
        "  elif city[i] == 'Bangalore':\n",
        "        avg[2] += rent[i]\n",
        "        counter[2] += 1\n",
        "  elif city[i] == 'Delhi':\n",
        "        avg[3] += rent[i]\n",
        "        counter[3] += 1\n",
        "  elif city[i] == 'Chennai':\n",
        "        avg[4] += rent[i]\n",
        "        counter[4] += 1\n",
        "  else:\n",
        "        avg[5] += rent[i]\n",
        "        counter[5] += 1\n",
        "\n",
        "for j in range(0,6):\n",
        "  avg[j] = round(avg[j]/counter[j],2)\n",
        "\n",
        "#print(\"The average in various cities are \",avg)\n",
        "\n",
        "sns.barplot(p,avg, color= 'lightgreen')\n",
        "plt.xlabel(\"City\")\n",
        "plt.ylabel(\"Average price of flats in that city in INR\")\n",
        "plt.title(\"Average Price city wise\")"
      ],
      "metadata": {
        "colab": {
          "base_uri": "https://localhost:8080/",
          "height": 367
        },
        "id": "ES368RCy2qOy",
        "outputId": "5957d8bf-ea9f-493b-ace6-dc8961d68199"
      },
      "execution_count": null,
      "outputs": [
        {
          "output_type": "stream",
          "name": "stderr",
          "text": [
            "/usr/local/lib/python3.7/dist-packages/seaborn/_decorators.py:43: FutureWarning: Pass the following variables as keyword args: x, y. From version 0.12, the only valid positional argument will be `data`, and passing other arguments without an explicit keyword will result in an error or misinterpretation.\n",
            "  FutureWarning\n"
          ]
        },
        {
          "output_type": "execute_result",
          "data": {
            "text/plain": [
              "Text(0.5, 1.0, 'Average Price city wise')"
            ]
          },
          "metadata": {},
          "execution_count": 8
        },
        {
          "output_type": "display_data",
          "data": {
            "text/plain": [
              "<Figure size 432x288 with 1 Axes>"
            ],
            "image/png": "[encoded data removed]"
          },
          "metadata": {
            "needs_background": "light"
          }
        }
      ]
    },
    {
      "cell_type": "code",
      "source": [
        "# 2. We calculate the average price of various BHK flats in the cities\n",
        "bhk_uni = np.array(df['BHK'].unique())\n",
        "bhk_uni = np.sort(bhk_uni)\n",
        "#print(bhk_uni)\n",
        "bhk_calc = [[0,0,0,0,0,0],[0,0,0,0,0,0],[0,0,0,0,0,0],[0,0,0,0,0,0],[0,0,0,0,0,0],[0,0,0,0,0,0]]\n",
        "counter = [[0,0,0,0,0,0],[0,0,0,0,0,0],[0,0,0,0,0,0],[0,0,0,0,0,0],[0,0,0,0,0,0],[0,0,0,0,0,0]]\n",
        "for i in range(4746):\n",
        "  if city[i] == 'Kolkata':\n",
        "    if bhk[i] == 1:\n",
        "      bhk_calc[0][0]+=rent[i]\n",
        "      counter[0][0]+=1\n",
        "    elif bhk[i] == 2:\n",
        "      bhk_calc[0][1]+=rent[i]\n",
        "      counter[0][1]+=1\n",
        "    elif bhk[i] == 3:\n",
        "      bhk_calc[0][2]+=rent[i]\n",
        "      counter[0][2]+=1\n",
        "    elif bhk[i] == 4:\n",
        "      bhk_calc[0][3]+=rent[i]\n",
        "      counter[0][3]+=1\n",
        "    elif bhk[i] == 5:\n",
        "      bhk_calc[0][4]+=rent[i]\n",
        "      counter[0][4]+=1\n",
        "    else:\n",
        "      bhk_calc[0][5]+=rent[i]\n",
        "      counter[0][5]+=1\n",
        "  elif city[i] == 'Mumbai':\n",
        "    if bhk[i] == 1:\n",
        "      bhk_calc[1][0]+=rent[i]\n",
        "      counter[1][0]+=1\n",
        "    elif bhk[i] == 2:\n",
        "      bhk_calc[1][1]+=rent[i]\n",
        "      counter[1][1]+=1\n",
        "    elif bhk[i] == 3:\n",
        "      bhk_calc[1][2]+=rent[i]\n",
        "      counter[1][2]+=1\n",
        "    elif bhk[i] == 4:\n",
        "      bhk_calc[1][3]+=rent[i]\n",
        "      counter[1][3]+=1\n",
        "    elif bhk[i] == 5:\n",
        "      bhk_calc[1][4]+=rent[i]\n",
        "      counter[1][4]+=1\n",
        "    else:\n",
        "      bhk_calc[1][5]+=rent[i]\n",
        "      counter[1][5]+=1\n",
        "  elif city[i] == 'Bangalore':\n",
        "    if bhk[i] == 1:\n",
        "      bhk_calc[2][0]+=rent[i]\n",
        "      counter[2][0]+=1\n",
        "    elif bhk[i] == 2:\n",
        "      bhk_calc[2][1]+=rent[i]\n",
        "      counter[2][1]+=1\n",
        "    elif bhk[i] == 3:\n",
        "      bhk_calc[2][2]+=rent[i]\n",
        "      counter[2][2]+=1\n",
        "    elif bhk[i] == 4:\n",
        "      bhk_calc[2][3]+=rent[i]\n",
        "      counter[2][3]+=1\n",
        "    elif bhk[i] == 5:\n",
        "      bhk_calc[2][4]+=rent[i]\n",
        "      counter[2][4]+=1\n",
        "    else:\n",
        "      bhk_calc[2][5]+=rent[i]\n",
        "      counter[2][5]+=1\n",
        "  elif city[i] == 'Delhi':\n",
        "    if bhk[i] == 1:\n",
        "      bhk_calc[3][0]+=rent[i]\n",
        "      counter[3][0]+=1\n",
        "    elif bhk[i] == 2:\n",
        "      bhk_calc[3][1]+=rent[i]\n",
        "      counter[3][1]+=1\n",
        "    elif bhk[i] == 3:\n",
        "      bhk_calc[3][2]+=rent[i]\n",
        "      counter[3][2]+=1\n",
        "    elif bhk[i] == 4:\n",
        "      bhk_calc[3][3]+=rent[i]\n",
        "      counter[3][3]+=1\n",
        "    elif bhk[i] == 5:\n",
        "      bhk_calc[3][4]+=rent[i]\n",
        "      counter[3][4]+=1\n",
        "    else:\n",
        "      bhk_calc[3][5]+=rent[i]\n",
        "      counter[3][5]+=1\n",
        "  elif city[i] == 'Chennai':\n",
        "    if bhk[i] == 1:\n",
        "      bhk_calc[4][0]+=rent[i]\n",
        "      counter[4][0]+=1\n",
        "    elif bhk[i] == 2:\n",
        "      bhk_calc[4][1]+=rent[i]\n",
        "      counter[4][1]+=1\n",
        "    elif bhk[i] == 3:\n",
        "      bhk_calc[4][2]+=rent[i]\n",
        "      counter[4][2]+=1\n",
        "    elif bhk[i] == 4:\n",
        "      bhk_calc[4][3]+=rent[i]\n",
        "      counter[4][3]+=1\n",
        "    elif bhk[i] == 5:\n",
        "      bhk_calc[4][4]+=rent[i]\n",
        "      counter[4][4]+=1\n",
        "    else:\n",
        "      bhk_calc[4][5]+=rent[i]\n",
        "      counter[4][5]+=1\n",
        "  else:\n",
        "    if bhk[i] == 1:\n",
        "      bhk_calc[5][0]+=rent[i]\n",
        "      counter[5][0]+=1\n",
        "    elif bhk[i] == 2:\n",
        "      bhk_calc[5][1]+=rent[i]\n",
        "      counter[5][1]+=1\n",
        "    elif bhk[i] == 3:\n",
        "      bhk_calc[5][2]+=rent[i]\n",
        "      counter[5][2]+=1\n",
        "    elif bhk[i] == 4:\n",
        "      bhk_calc[5][3]+=rent[i]\n",
        "      counter[5][3]+=1\n",
        "    elif bhk[i] == 5:\n",
        "      bhk_calc[5][4]+=rent[i]\n",
        "      counter[5][4]+=1\n",
        "    else:\n",
        "      bhk_calc[5][5]+=rent[i]\n",
        "      counter[5][5]+=1\n",
        "for i in range(6):\n",
        "  for j in range(6):\n",
        "    if counter[i][j]!=0:\n",
        "      bhk_calc[i][j] = bhk_calc[i][j]/counter[i][j]"
      ],
      "metadata": {
        "id": "-9hgg3U69Ew9"
      },
      "execution_count": null,
      "outputs": []
    },
    {
      "cell_type": "code",
      "source": [
        "p1 = np.array(df['Furnishing Status'].unique())\n",
        "p1"
      ],
      "metadata": {
        "colab": {
          "base_uri": "https://localhost:8080/"
        },
        "id": "WQ2n_GTaeWfB",
        "outputId": "5b954ccb-7cf2-4f62-d3d4-ea6d1126b843"
      },
      "execution_count": null,
      "outputs": [
        {
          "output_type": "execute_result",
          "data": {
            "text/plain": [
              "array(['Unfurnished', 'Semi-Furnished', 'Furnished'], dtype=object)"
            ]
          },
          "metadata": {},
          "execution_count": 43
        }
      ]
    },
    {
      "cell_type": "code",
      "source": [
        "sns.barplot(bhk_uni,bhk_calc[0])\n",
        "plt.title('BHK Wise average prices in Kolkata')\n",
        "plt.xlabel('BHK')\n",
        "plt.ylabel('Average price in INR')"
      ],
      "metadata": {
        "colab": {
          "base_uri": "https://localhost:8080/",
          "height": 312
        },
        "id": "nUsdc64zSb12",
        "outputId": "0c4cf305-309f-4ba8-9cc5-b90589a8ab90"
      },
      "execution_count": null,
      "outputs": [
        {
          "output_type": "execute_result",
          "data": {
            "text/plain": [
              "Text(0, 0.5, 'Average price in INR')"
            ]
          },
          "metadata": {},
          "execution_count": 44
        },
        {
          "output_type": "display_data",
          "data": {
            "text/plain": [
              "<Figure size 432x288 with 1 Axes>"
            ],
            "image/png": "[encoded data removed]"
          },
          "metadata": {
            "needs_background": "light"
          }
        }
      ]
    },
    {
      "cell_type": "code",
      "source": [
        "sns.barplot(bhk_uni,bhk_calc[1])\n",
        "plt.title('BHK Wise average prices in Mumbai')\n",
        "plt.xlabel('BHK')\n",
        "plt.ylabel('Average price in INR')"
      ],
      "metadata": {
        "colab": {
          "base_uri": "https://localhost:8080/",
          "height": 367
        },
        "id": "rZv4147uXndW",
        "outputId": "a09d61b2-3ef0-4ef2-d4d8-69dbe59723f3"
      },
      "execution_count": null,
      "outputs": [
        {
          "output_type": "stream",
          "name": "stderr",
          "text": [
            "/usr/local/lib/python3.7/dist-packages/seaborn/_decorators.py:43: FutureWarning: Pass the following variables as keyword args: x, y. From version 0.12, the only valid positional argument will be `data`, and passing other arguments without an explicit keyword will result in an error or misinterpretation.\n",
            "  FutureWarning\n"
          ]
        },
        {
          "output_type": "execute_result",
          "data": {
            "text/plain": [
              "Text(0, 0.5, 'Average price in INR')"
            ]
          },
          "metadata": {},
          "execution_count": 45
        },
        {
          "output_type": "display_data",
          "data": {
            "text/plain": [
              "<Figure size 432x288 with 1 Axes>"
            ],
            "image/png": "[encoded data removed]"
          },
          "metadata": {
            "needs_background": "light"
          }
        }
      ]
    },
    {
      "cell_type": "code",
      "source": [
        "sns.barplot(bhk_uni,bhk_calc[2])\n",
        "plt.title('BHK Wise average prices in Bangalore')\n",
        "plt.xlabel('BHK')\n",
        "plt.ylabel('Average price in INR')"
      ],
      "metadata": {
        "colab": {
          "base_uri": "https://localhost:8080/",
          "height": 367
        },
        "id": "x7049zYGayfR",
        "outputId": "c683de5f-2938-4d8d-cb54-d837ca57c369"
      },
      "execution_count": null,
      "outputs": [
        {
          "output_type": "stream",
          "name": "stderr",
          "text": [
            "/usr/local/lib/python3.7/dist-packages/seaborn/_decorators.py:43: FutureWarning: Pass the following variables as keyword args: x, y. From version 0.12, the only valid positional argument will be `data`, and passing other arguments without an explicit keyword will result in an error or misinterpretation.\n",
            "  FutureWarning\n"
          ]
        },
        {
          "output_type": "execute_result",
          "data": {
            "text/plain": [
              "Text(0, 0.5, 'Average price in INR')"
            ]
          },
          "metadata": {},
          "execution_count": 46
        },
        {
          "output_type": "display_data",
          "data": {
            "text/plain": [
              "<Figure size 432x288 with 1 Axes>"
            ],
            "image/png": "[encoded data removed]"
          },
          "metadata": {
            "needs_background": "light"
          }
        }
      ]
    },
    {
      "cell_type": "code",
      "source": [
        "sns.barplot(bhk_uni,bhk_calc[3])\n",
        "plt.title('BHK Wise average prices in Delhi')\n",
        "plt.xlabel('BHK')\n",
        "plt.ylabel('Average price in INR')"
      ],
      "metadata": {
        "colab": {
          "base_uri": "https://localhost:8080/",
          "height": 367
        },
        "id": "b0SDN40ga2RB",
        "outputId": "09fc9d84-cb38-440a-92b2-bd09ae305994"
      },
      "execution_count": null,
      "outputs": [
        {
          "output_type": "stream",
          "name": "stderr",
          "text": [
            "/usr/local/lib/python3.7/dist-packages/seaborn/_decorators.py:43: FutureWarning: Pass the following variables as keyword args: x, y. From version 0.12, the only valid positional argument will be `data`, and passing other arguments without an explicit keyword will result in an error or misinterpretation.\n",
            "  FutureWarning\n"
          ]
        },
        {
          "output_type": "execute_result",
          "data": {
            "text/plain": [
              "Text(0, 0.5, 'Average price in INR')"
            ]
          },
          "metadata": {},
          "execution_count": 47
        },
        {
          "output_type": "display_data",
          "data": {
            "text/plain": [
              "<Figure size 432x288 with 1 Axes>"
            ],
            "image/png": "[encoded data removed]"
          },
          "metadata": {
            "needs_background": "light"
          }
        }
      ]
    },
    {
      "cell_type": "code",
      "source": [
        "sns.barplot(bhk_uni,bhk_calc[4])\n",
        "plt.title('BHK Wise average prices in Chennai')\n",
        "plt.xlabel('BHK')\n",
        "plt.ylabel('Average price in INR')"
      ],
      "metadata": {
        "colab": {
          "base_uri": "https://localhost:8080/",
          "height": 367
        },
        "id": "2lFtXDNba7gf",
        "outputId": "1e2bb401-5fc9-4280-93cd-ffc461d947f8"
      },
      "execution_count": null,
      "outputs": [
        {
          "output_type": "stream",
          "name": "stderr",
          "text": [
            "/usr/local/lib/python3.7/dist-packages/seaborn/_decorators.py:43: FutureWarning: Pass the following variables as keyword args: x, y. From version 0.12, the only valid positional argument will be `data`, and passing other arguments without an explicit keyword will result in an error or misinterpretation.\n",
            "  FutureWarning\n"
          ]
        },
        {
          "output_type": "execute_result",
          "data": {
            "text/plain": [
              "Text(0, 0.5, 'Average price in INR')"
            ]
          },
          "metadata": {},
          "execution_count": 48
        },
        {
          "output_type": "display_data",
          "data": {
            "text/plain": [
              "<Figure size 432x288 with 1 Axes>"
            ],
            "image/png": "[encoded data removed]"
          },
          "metadata": {
            "needs_background": "light"
          }
        }
      ]
    },
    {
      "cell_type": "code",
      "source": [
        "sns.barplot(bhk_uni,bhk_calc[5])\n",
        "plt.title('BHK Wise average prices in Hyderabad')\n",
        "plt.xlabel('BHK')\n",
        "plt.ylabel('Average price in INR')"
      ],
      "metadata": {
        "colab": {
          "base_uri": "https://localhost:8080/",
          "height": 367
        },
        "id": "NYEWEqPxbBT-",
        "outputId": "2f050d0f-0614-4362-b051-25b3ffb5ac7a"
      },
      "execution_count": null,
      "outputs": [
        {
          "output_type": "stream",
          "name": "stderr",
          "text": [
            "/usr/local/lib/python3.7/dist-packages/seaborn/_decorators.py:43: FutureWarning: Pass the following variables as keyword args: x, y. From version 0.12, the only valid positional argument will be `data`, and passing other arguments without an explicit keyword will result in an error or misinterpretation.\n",
            "  FutureWarning\n"
          ]
        },
        {
          "output_type": "execute_result",
          "data": {
            "text/plain": [
              "Text(0, 0.5, 'Average price in INR')"
            ]
          },
          "metadata": {},
          "execution_count": 49
        },
        {
          "output_type": "display_data",
          "data": {
            "text/plain": [
              "<Figure size 432x288 with 1 Axes>"
            ],
            "image/png": "[encoded data removed]"
          },
          "metadata": {
            "needs_background": "light"
          }
        }
      ]
    },
    {
      "cell_type": "code",
      "source": [
        "#EDA\n",
        "#2. BHK Wise distribution of flats in various cities\n",
        "plt.xlabel('BHK')\n",
        "plt.ylabel('Number of flats avaliable')\n",
        "sns.lineplot(bhk_uni,counter[0],color ='orange')\n",
        "plt.title('Number of various BHK flats avaliable for rent in Kolkata')"
      ],
      "metadata": {
        "colab": {
          "base_uri": "https://localhost:8080/",
          "height": 367
        },
        "id": "3_LBQP1grRA2",
        "outputId": "fae2974b-1423-4337-d9ea-d8de5989e0e3"
      },
      "execution_count": null,
      "outputs": [
        {
          "output_type": "stream",
          "name": "stderr",
          "text": [
            "/usr/local/lib/python3.7/dist-packages/seaborn/_decorators.py:43: FutureWarning: Pass the following variables as keyword args: x, y. From version 0.12, the only valid positional argument will be `data`, and passing other arguments without an explicit keyword will result in an error or misinterpretation.\n",
            "  FutureWarning\n"
          ]
        },
        {
          "output_type": "execute_result",
          "data": {
            "text/plain": [
              "Text(0.5, 1.0, 'Number of various BHK flats avaliable for rent in Kolkata')"
            ]
          },
          "metadata": {},
          "execution_count": 52
        },
        {
          "output_type": "display_data",
          "data": {
            "text/plain": [
              "<Figure size 432x288 with 1 Axes>"
            ],
            "image/png": "[encoded data removed]"
          },
          "metadata": {
            "needs_background": "light"
          }
        }
      ]
    },
    {
      "cell_type": "code",
      "source": [
        "plt.xlabel('BHK')\n",
        "plt.ylabel('Number of flats avaliable')\n",
        "sns.lineplot(bhk_uni,counter[1],color ='green')\n",
        "plt.title('Number of various BHK flats avaliable for rent in Mumbai')"
      ],
      "metadata": {
        "colab": {
          "base_uri": "https://localhost:8080/",
          "height": 367
        },
        "id": "Z5Q_fbrisRp9",
        "outputId": "aee80fee-f706-4897-acf0-a02188ecfcd4"
      },
      "execution_count": null,
      "outputs": [
        {
          "output_type": "stream",
          "name": "stderr",
          "text": [
            "/usr/local/lib/python3.7/dist-packages/seaborn/_decorators.py:43: FutureWarning: Pass the following variables as keyword args: x, y. From version 0.12, the only valid positional argument will be `data`, and passing other arguments without an explicit keyword will result in an error or misinterpretation.\n",
            "  FutureWarning\n"
          ]
        },
        {
          "output_type": "execute_result",
          "data": {
            "text/plain": [
              "Text(0.5, 1.0, 'Number of various BHK flats avaliable for rent in Mumbai')"
            ]
          },
          "metadata": {},
          "execution_count": 53
        },
        {
          "output_type": "display_data",
          "data": {
            "text/plain": [
              "<Figure size 432x288 with 1 Axes>"
            ],
            "image/png": "[encoded data removed]"
          },
          "metadata": {
            "needs_background": "light"
          }
        }
      ]
    },
    {
      "cell_type": "code",
      "source": [
        "plt.xlabel('BHK')\n",
        "plt.ylabel('Number of flats avaliable')\n",
        "sns.lineplot(bhk_uni,counter[2],color ='maroon')\n",
        "plt.title('Number of various BHK flats avaliable for rent in Bangalore')"
      ],
      "metadata": {
        "colab": {
          "base_uri": "https://localhost:8080/",
          "height": 367
        },
        "id": "-PhiR2NcsYpl",
        "outputId": "61694484-7aab-4a00-e822-b8e67f5a4280"
      },
      "execution_count": null,
      "outputs": [
        {
          "output_type": "stream",
          "name": "stderr",
          "text": [
            "/usr/local/lib/python3.7/dist-packages/seaborn/_decorators.py:43: FutureWarning: Pass the following variables as keyword args: x, y. From version 0.12, the only valid positional argument will be `data`, and passing other arguments without an explicit keyword will result in an error or misinterpretation.\n",
            "  FutureWarning\n"
          ]
        },
        {
          "output_type": "execute_result",
          "data": {
            "text/plain": [
              "Text(0.5, 1.0, 'Number of various BHK flats avaliable for rent in Bangalore')"
            ]
          },
          "metadata": {},
          "execution_count": 54
        },
        {
          "output_type": "display_data",
          "data": {
            "text/plain": [
              "<Figure size 432x288 with 1 Axes>"
            ],
            "image/png": "[encoded data removed]"
          },
          "metadata": {
            "needs_background": "light"
          }
        }
      ]
    },
    {
      "cell_type": "code",
      "source": [
        "plt.xlabel('BHK')\n",
        "plt.ylabel('Number of flats avaliable')\n",
        "sns.lineplot(bhk_uni,counter[3],color ='yellow')\n",
        "plt.title('Number of various BHK flats avaliable for rent in Delhi')"
      ],
      "metadata": {
        "colab": {
          "base_uri": "https://localhost:8080/",
          "height": 367
        },
        "id": "wr57Cy9hsgDY",
        "outputId": "97b79680-6197-46c6-a594-65f869eabefd"
      },
      "execution_count": null,
      "outputs": [
        {
          "output_type": "stream",
          "name": "stderr",
          "text": [
            "/usr/local/lib/python3.7/dist-packages/seaborn/_decorators.py:43: FutureWarning: Pass the following variables as keyword args: x, y. From version 0.12, the only valid positional argument will be `data`, and passing other arguments without an explicit keyword will result in an error or misinterpretation.\n",
            "  FutureWarning\n"
          ]
        },
        {
          "output_type": "execute_result",
          "data": {
            "text/plain": [
              "Text(0.5, 1.0, 'Number of various BHK flats avaliable for rent in Delhi')"
            ]
          },
          "metadata": {},
          "execution_count": 55
        },
        {
          "output_type": "display_data",
          "data": {
            "text/plain": [
              "<Figure size 432x288 with 1 Axes>"
            ],
            "image/png": "[encoded data removed]"
          },
          "metadata": {
            "needs_background": "light"
          }
        }
      ]
    },
    {
      "cell_type": "code",
      "source": [
        "plt.xlabel('BHK')\n",
        "plt.ylabel('Number of flats avaliable')\n",
        "sns.lineplot(bhk_uni,counter[4],color ='blue')\n",
        "plt.title('Number of various BHK flats avaliable for rent in Chennai')"
      ],
      "metadata": {
        "colab": {
          "base_uri": "https://localhost:8080/",
          "height": 367
        },
        "id": "PHDacsxgv-iZ",
        "outputId": "084d90c6-a266-4d54-e40c-642d715685ad"
      },
      "execution_count": null,
      "outputs": [
        {
          "output_type": "stream",
          "name": "stderr",
          "text": [
            "/usr/local/lib/python3.7/dist-packages/seaborn/_decorators.py:43: FutureWarning: Pass the following variables as keyword args: x, y. From version 0.12, the only valid positional argument will be `data`, and passing other arguments without an explicit keyword will result in an error or misinterpretation.\n",
            "  FutureWarning\n"
          ]
        },
        {
          "output_type": "execute_result",
          "data": {
            "text/plain": [
              "Text(0.5, 1.0, 'Number of various BHK flats avaliable for rent in Chennai')"
            ]
          },
          "metadata": {},
          "execution_count": 57
        },
        {
          "output_type": "display_data",
          "data": {
            "text/plain": [
              "<Figure size 432x288 with 1 Axes>"
            ],
            "image/png": "[encoded data removed]"
          },
          "metadata": {
            "needs_background": "light"
          }
        }
      ]
    },
    {
      "cell_type": "code",
      "source": [
        "plt.xlabel('BHK')\n",
        "plt.ylabel('Number of flats avaliable')\n",
        "sns.lineplot(bhk_uni,counter[5],color ='purple')\n",
        "plt.title('Number of various BHK flats avaliable for rent in Hyderabad')"
      ],
      "metadata": {
        "colab": {
          "base_uri": "https://localhost:8080/",
          "height": 367
        },
        "id": "cXtonweswM11",
        "outputId": "c1794736-9041-439e-afa5-3b9e08476fd1"
      },
      "execution_count": null,
      "outputs": [
        {
          "output_type": "stream",
          "name": "stderr",
          "text": [
            "/usr/local/lib/python3.7/dist-packages/seaborn/_decorators.py:43: FutureWarning: Pass the following variables as keyword args: x, y. From version 0.12, the only valid positional argument will be `data`, and passing other arguments without an explicit keyword will result in an error or misinterpretation.\n",
            "  FutureWarning\n"
          ]
        },
        {
          "output_type": "execute_result",
          "data": {
            "text/plain": [
              "Text(0.5, 1.0, 'Number of various BHK flats avaliable for rent in Hyderabad')"
            ]
          },
          "metadata": {},
          "execution_count": 58
        },
        {
          "output_type": "display_data",
          "data": {
            "text/plain": [
              "<Figure size 432x288 with 1 Axes>"
            ],
            "image/png": "[encoded data removed]"
          },
          "metadata": {
            "needs_background": "light"
          }
        }
      ]
    },
    {
      "cell_type": "code",
      "source": [
        "#Exploratory Data Analysis\n",
        "#4. We calculate the average pricing of various types of furnished apartments across the various cities\n",
        "bhk_calc = [[0,0,0],[0,0,0],[0,0,0],[0,0,0],[0,0,0],[0,0,0]]\n",
        "counter = [[0,0,0],[0,0,0],[0,0,0],[0,0,0],[0,0,0],[0,0,0]]\n",
        "for i in range(4746):\n",
        "  if city[i] == 'Kolkata':\n",
        "    if furnishing[i] == 0:\n",
        "      bhk_calc[0][0]+=rent[i]\n",
        "      counter[0][0]+=1\n",
        "    elif furnishing[i] == 1:\n",
        "      bhk_calc[0][1]+=rent[i]\n",
        "      counter[0][1]+=1\n",
        "    else:\n",
        "      bhk_calc[0][2]+=rent[i]\n",
        "      counter[0][2]+=1\n",
        "    \n",
        "  elif city[i] == 'Mumbai':\n",
        "    if furnishing[i] == 0:\n",
        "      bhk_calc[1][0]+=rent[i]\n",
        "      counter[1][0]+=1\n",
        "    elif furnishing[i] == 1:\n",
        "      bhk_calc[1][1]+=rent[i]\n",
        "      counter[1][1]+=1\n",
        "    else:\n",
        "      bhk_calc[1][2]+=rent[i]\n",
        "      counter[1][2]+=1\n",
        "    \n",
        "  elif city[i] == 'Bangalore':\n",
        "    if furnishing[i] == 0:\n",
        "      bhk_calc[2][0]+=rent[i]\n",
        "      counter[2][0]+=1\n",
        "    elif furnishing[i] == 1:\n",
        "      bhk_calc[2][1]+=rent[i]\n",
        "      counter[2][1]+=1\n",
        "    else:\n",
        "      bhk_calc[2][2]+=rent[i]\n",
        "      counter[2][2]+=1\n",
        "    \n",
        "  elif city[i] == 'Delhi':\n",
        "    if furnishing[i] == 0:\n",
        "      bhk_calc[3][0]+=rent[i]\n",
        "      counter[3][0]+=1\n",
        "    elif furnishing[i] == 1:\n",
        "      bhk_calc[3][1]+=rent[i]\n",
        "      counter[3][1]+=1\n",
        "    else:\n",
        "      bhk_calc[3][2]+=rent[i]\n",
        "      counter[3][2]+=1\n",
        "  elif city[i] == 'Chennai':\n",
        "    if furnishing[i] == 0:\n",
        "      bhk_calc[4][0]+=rent[i]\n",
        "      counter[4][0]+=1\n",
        "    elif furnishing[i] == 1:\n",
        "      bhk_calc[4][1]+=rent[i]\n",
        "      counter[4][1]+=1\n",
        "    else:\n",
        "      bhk_calc[4][2]+=rent[i]\n",
        "      counter[4][2]+=1\n",
        "  else:\n",
        "    if furnishing[i] == 0:\n",
        "      bhk_calc[5][0]+=rent[i]\n",
        "      counter[5][0]+=1\n",
        "    elif furnishing[i] == 1:\n",
        "      bhk_calc[5][1]+=rent[i]\n",
        "      counter[5][1]+=1\n",
        "    else:\n",
        "      bhk_calc[5][2]+=rent[i]\n",
        "      counter[5][2]+=1\n",
        "    \n",
        "for i in range(3):\n",
        "  for j in range(3):\n",
        "    if counter[i][j]!=0:\n",
        "      bhk_calc[i][j] = bhk_calc[i][j]/counter[i][j]"
      ],
      "metadata": {
        "id": "T5R7LejC3RGU"
      },
      "execution_count": null,
      "outputs": []
    },
    {
      "cell_type": "code",
      "source": [
        "sns.barplot(p1,bhk_calc[0])\n",
        "plt.title('Flat furnishing Wise average prices in Kolkata')\n",
        "plt.xlabel('Type of furnishing')\n",
        "plt.ylabel('Average price in INR')"
      ],
      "metadata": {
        "colab": {
          "base_uri": "https://localhost:8080/",
          "height": 367
        },
        "id": "_Kf7FwtReOfa",
        "outputId": "9daef97d-7fb8-4535-8775-cffc61cf16cf"
      },
      "execution_count": null,
      "outputs": [
        {
          "output_type": "stream",
          "name": "stderr",
          "text": [
            "/usr/local/lib/python3.7/dist-packages/seaborn/_decorators.py:43: FutureWarning: Pass the following variables as keyword args: x, y. From version 0.12, the only valid positional argument will be `data`, and passing other arguments without an explicit keyword will result in an error or misinterpretation.\n",
            "  FutureWarning\n"
          ]
        },
        {
          "output_type": "execute_result",
          "data": {
            "text/plain": [
              "Text(0, 0.5, 'Average price in INR')"
            ]
          },
          "metadata": {},
          "execution_count": 28
        },
        {
          "output_type": "display_data",
          "data": {
            "text/plain": [
              "<Figure size 432x288 with 1 Axes>"
            ],
            "image/png": "[encoded data removed]"
          },
          "metadata": {
            "needs_background": "light"
          }
        }
      ]
    },
    {
      "cell_type": "code",
      "source": [
        "sns.barplot(p1,bhk_calc[1])\n",
        "plt.title('BHK Wise average prices in Mumbai')\n",
        "plt.xlabel('Furnishing type')\n",
        "plt.ylabel('Average price in INR')"
      ],
      "metadata": {
        "colab": {
          "base_uri": "https://localhost:8080/",
          "height": 367
        },
        "id": "Tp962TCTm74s",
        "outputId": "afbbeee6-cf06-448c-ee46-5ec0529a0803"
      },
      "execution_count": null,
      "outputs": [
        {
          "output_type": "stream",
          "name": "stderr",
          "text": [
            "/usr/local/lib/python3.7/dist-packages/seaborn/_decorators.py:43: FutureWarning: Pass the following variables as keyword args: x, y. From version 0.12, the only valid positional argument will be `data`, and passing other arguments without an explicit keyword will result in an error or misinterpretation.\n",
            "  FutureWarning\n"
          ]
        },
        {
          "output_type": "execute_result",
          "data": {
            "text/plain": [
              "Text(0, 0.5, 'Average price in INR')"
            ]
          },
          "metadata": {},
          "execution_count": 30
        },
        {
          "output_type": "display_data",
          "data": {
            "text/plain": [
              "<Figure size 432x288 with 1 Axes>"
            ],
            "image/png": "[encoded data removed]"
          },
          "metadata": {
            "needs_background": "light"
          }
        }
      ]
    },
    {
      "cell_type": "code",
      "source": [
        "sns.barplot(p1,bhk_calc[2])\n",
        "plt.title('BHK Wise average prices in Bangalore')\n",
        "plt.xlabel('Furnishing type')\n",
        "plt.ylabel('Average price in INR')"
      ],
      "metadata": {
        "colab": {
          "base_uri": "https://localhost:8080/",
          "height": 367
        },
        "id": "7S1bqN0FnG16",
        "outputId": "f5552047-e3bb-4488-be27-46ca9590ae45"
      },
      "execution_count": null,
      "outputs": [
        {
          "output_type": "stream",
          "name": "stderr",
          "text": [
            "/usr/local/lib/python3.7/dist-packages/seaborn/_decorators.py:43: FutureWarning: Pass the following variables as keyword args: x, y. From version 0.12, the only valid positional argument will be `data`, and passing other arguments without an explicit keyword will result in an error or misinterpretation.\n",
            "  FutureWarning\n"
          ]
        },
        {
          "output_type": "execute_result",
          "data": {
            "text/plain": [
              "Text(0, 0.5, 'Average price in INR')"
            ]
          },
          "metadata": {},
          "execution_count": 31
        },
        {
          "output_type": "display_data",
          "data": {
            "text/plain": [
              "<Figure size 432x288 with 1 Axes>"
            ],
            "image/png": "[encoded data removed]"
          },
          "metadata": {
            "needs_background": "light"
          }
        }
      ]
    },
    {
      "cell_type": "code",
      "source": [
        "sns.barplot(p1,bhk_calc[3])\n",
        "plt.title('BHK Wise average prices in Delhi')\n",
        "plt.xlabel('Furnishing type')\n",
        "plt.ylabel('Average price in INR')"
      ],
      "metadata": {
        "colab": {
          "base_uri": "https://localhost:8080/",
          "height": 367
        },
        "id": "bxoGFWNknLVD",
        "outputId": "79304a33-ec0b-4525-b55f-117ee30ae4c2"
      },
      "execution_count": null,
      "outputs": [
        {
          "output_type": "stream",
          "name": "stderr",
          "text": [
            "/usr/local/lib/python3.7/dist-packages/seaborn/_decorators.py:43: FutureWarning: Pass the following variables as keyword args: x, y. From version 0.12, the only valid positional argument will be `data`, and passing other arguments without an explicit keyword will result in an error or misinterpretation.\n",
            "  FutureWarning\n"
          ]
        },
        {
          "output_type": "execute_result",
          "data": {
            "text/plain": [
              "Text(0, 0.5, 'Average price in INR')"
            ]
          },
          "metadata": {},
          "execution_count": 36
        },
        {
          "output_type": "display_data",
          "data": {
            "text/plain": [
              "<Figure size 432x288 with 1 Axes>"
            ],
            "image/png": "[encoded data removed]"
          },
          "metadata": {
            "needs_background": "light"
          }
        }
      ]
    },
    {
      "cell_type": "code",
      "source": [
        "sns.barplot(p1,bhk_calc[4])\n",
        "plt.title('BHK Wise average prices in chennai')\n",
        "plt.xlabel('Furnishing type')\n",
        "plt.ylabel('Average price in INR')"
      ],
      "metadata": {
        "colab": {
          "base_uri": "https://localhost:8080/",
          "height": 367
        },
        "id": "ptj54v8VnsG6",
        "outputId": "a31b797e-5525-4bb1-9aa0-24c75e7f31ed"
      },
      "execution_count": null,
      "outputs": [
        {
          "output_type": "stream",
          "name": "stderr",
          "text": [
            "/usr/local/lib/python3.7/dist-packages/seaborn/_decorators.py:43: FutureWarning: Pass the following variables as keyword args: x, y. From version 0.12, the only valid positional argument will be `data`, and passing other arguments without an explicit keyword will result in an error or misinterpretation.\n",
            "  FutureWarning\n"
          ]
        },
        {
          "output_type": "execute_result",
          "data": {
            "text/plain": [
              "Text(0, 0.5, 'Average price in INR')"
            ]
          },
          "metadata": {},
          "execution_count": 37
        },
        {
          "output_type": "display_data",
          "data": {
            "text/plain": [
              "<Figure size 432x288 with 1 Axes>"
            ],
            "image/png": "[encoded data removed]"
          },
          "metadata": {
            "needs_background": "light"
          }
        }
      ]
    },
    {
      "cell_type": "code",
      "source": [
        "sns.barplot(p1,bhk_calc[5])\n",
        "plt.title('BHK Wise average prices in Hyderabad')\n",
        "plt.xlabel('Furnishing type')\n",
        "plt.ylabel('Average price in INR')"
      ],
      "metadata": {
        "id": "wHcfiwDEn0EV",
        "outputId": "ad6d918e-ee5f-45ee-e277-146c129b28f4",
        "colab": {
          "base_uri": "https://localhost:8080/",
          "height": 367
        }
      },
      "execution_count": null,
      "outputs": [
        {
          "output_type": "stream",
          "name": "stderr",
          "text": [
            "/usr/local/lib/python3.7/dist-packages/seaborn/_decorators.py:43: FutureWarning: Pass the following variables as keyword args: x, y. From version 0.12, the only valid positional argument will be `data`, and passing other arguments without an explicit keyword will result in an error or misinterpretation.\n",
            "  FutureWarning\n"
          ]
        },
        {
          "output_type": "execute_result",
          "data": {
            "text/plain": [
              "Text(0, 0.5, 'Average price in INR')"
            ]
          },
          "metadata": {},
          "execution_count": 38
        },
        {
          "output_type": "display_data",
          "data": {
            "text/plain": [
              "<Figure size 432x288 with 1 Axes>"
            ],
            "image/png": "[encoded data removed]"
          },
          "metadata": {
            "needs_background": "light"
          }
        }
      ]
    },
    {
      "cell_type": "code",
      "source": [
        "print(bhk.shape)\n",
        "print(df_floor.shape)\n",
        "print(city.shape)\n",
        "print(b_room.shape)"
      ],
      "metadata": {
        "colab": {
          "base_uri": "https://localhost:8080/"
        },
        "id": "XHRY_ff1GD_1",
        "outputId": "1b97f997-23d6-4b02-bc94-ca0a21836bc2"
      },
      "execution_count": null,
      "outputs": [
        {
          "output_type": "stream",
          "name": "stdout",
          "text": [
            "(4746,)\n",
            "(4746,)\n",
            "(4746,)\n",
            "(4746,)\n"
          ]
        }
      ]
    },
    {
      "cell_type": "code",
      "source": [
        "#Start of Model building"
      ],
      "metadata": {
        "id": "hrqI0kchOwLI"
      },
      "execution_count": null,
      "outputs": []
    },
    {
      "cell_type": "code",
      "source": [
        "df2 = df\n",
        "del df2['Area Locality']\n",
        "del df2['Area Type']\n",
        "del df2['Tenant Preferred']\n",
        "del df2['Point of Contact']\n",
        "del df2['Size']"
      ],
      "metadata": {
        "id": "JV10DE9Wup2h"
      },
      "execution_count": null,
      "outputs": []
    },
    {
      "cell_type": "code",
      "source": [
        "#Editing df2 database to give integer values to certain fields\n"
      ],
      "metadata": {
        "id": "9FY30fph0ncD"
      },
      "execution_count": null,
      "outputs": []
    },
    {
      "cell_type": "code",
      "source": [
        "arr= []\n",
        "for i in range(4746):\n",
        "  if(city[i]=='Kolkata'):\n",
        "    arr.append([bhk[i],floors[i],furnishing[i],0,b_room[i],rent[i]])\n",
        "  elif(city[i]=='Mumbai'):\n",
        "    arr.append([bhk[i],floors[i],furnishing[i],1,b_room[i],rent[i]])\n",
        "  elif(city[i]=='Bangalore'):\n",
        "    arr.append([bhk[i],floors[i],furnishing[i],2,b_room[i],rent[i]])\n",
        "  elif(city[i]=='Delhi'):\n",
        "    arr.append([bhk[i],floors[i],furnishing[i],3,b_room[i],rent[i]])\n",
        "  elif(city[i]=='Chennai'):\n",
        "    arr.append([bhk[i],floors[i],furnishing[i],4,b_room[i],rent[i]])\n",
        "  else:\n",
        "    arr.append([bhk[i],floors[i],furnishing[i],5,b_room[i],rent[i]])\n"
      ],
      "metadata": {
        "id": "_Edy9m7M3Mfy"
      },
      "execution_count": null,
      "outputs": []
    },
    {
      "cell_type": "code",
      "source": [
        "# We will use df_res for our final ML model as we are not considering the rest of the columns\n",
        "df_res = pd.DataFrame(data = arr, columns = ['BHK','Floor No.','Furnishing','City','Bathroom','Rent'])\n",
        "df_res"
      ],
      "metadata": {
        "id": "l-fnJ3AcJdtm",
        "colab": {
          "base_uri": "https://localhost:8080/",
          "height": 423
        },
        "outputId": "293b63c8-aa3e-4882-8891-4d18dc7bc75e"
      },
      "execution_count": null,
      "outputs": [
        {
          "output_type": "execute_result",
          "data": {
            "text/plain": [
              "      BHK  Floor No.  Furnishing  City  Bathroom   Rent\n",
              "0       2          0           0     0         2  10000\n",
              "1       2          1           1     0         1  20000\n",
              "2       2          1           1     0         1  17000\n",
              "3       2          1           0     0         1  10000\n",
              "4       2          1           0     0         1   7500\n",
              "...   ...        ...         ...   ...       ...    ...\n",
              "4741    2          3           1     5         2  15000\n",
              "4742    3          1           1     5         3  29000\n",
              "4743    3          3           1     5         3  35000\n",
              "4744    3         23           1     5         2  45000\n",
              "4745    2          4           0     5         2  15000\n",
              "\n",
              "[4746 rows x 6 columns]"
            ],
            "text/html": [
              "\n",
              "  <div id=\"df-1043a49c-8e28-4c55-b5de-087a68e71683\">\n",
              "    <div class=\"colab-df-container\">\n",
              "      <div>\n",
              "<style scoped>\n",
              "    .dataframe tbody tr th:only-of-type {\n",
              "        vertical-align: middle;\n",
              "    }\n",
              "\n",
              "    .dataframe tbody tr th {\n",
              "        vertical-align: top;\n",
              "    }\n",
              "\n",
              "    .dataframe thead th {\n",
              "        text-align: right;\n",
              "    }\n",
              "</style>\n",
              "<table border=\"1\" class=\"dataframe\">\n",
              "  <thead>\n",
              "    <tr style=\"text-align: right;\">\n",
              "      <th></th>\n",
              "      <th>BHK</th>\n",
              "      <th>Floor No.</th>\n",
              "      <th>Furnishing</th>\n",
              "      <th>City</th>\n",
              "      <th>Bathroom</th>\n",
              "      <th>Rent</th>\n",
              "    </tr>\n",
              "  </thead>\n",
              "  <tbody>\n",
              "    <tr>\n",
              "      <th>0</th>\n",
              "      <td>2</td>\n",
              "      <td>0</td>\n",
              "      <td>0</td>\n",
              "      <td>0</td>\n",
              "      <td>2</td>\n",
              "      <td>10000</td>\n",
              "    </tr>\n",
              "    <tr>\n",
              "      <th>1</th>\n",
              "      <td>2</td>\n",
              "      <td>1</td>\n",
              "      <td>1</td>\n",
              "      <td>0</td>\n",
              "      <td>1</td>\n",
              "      <td>20000</td>\n",
              "    </tr>\n",
              "    <tr>\n",
              "      <th>2</th>\n",
              "      <td>2</td>\n",
              "      <td>1</td>\n",
              "      <td>1</td>\n",
              "      <td>0</td>\n",
              "      <td>1</td>\n",
              "      <td>17000</td>\n",
              "    </tr>\n",
              "    <tr>\n",
              "      <th>3</th>\n",
              "      <td>2</td>\n",
              "      <td>1</td>\n",
              "      <td>0</td>\n",
              "      <td>0</td>\n",
              "      <td>1</td>\n",
              "      <td>10000</td>\n",
              "    </tr>\n",
              "    <tr>\n",
              "      <th>4</th>\n",
              "      <td>2</td>\n",
              "      <td>1</td>\n",
              "      <td>0</td>\n",
              "      <td>0</td>\n",
              "      <td>1</td>\n",
              "      <td>7500</td>\n",
              "    </tr>\n",
              "    <tr>\n",
              "      <th>...</th>\n",
              "      <td>...</td>\n",
              "      <td>...</td>\n",
              "      <td>...</td>\n",
              "      <td>...</td>\n",
              "      <td>...</td>\n",
              "      <td>...</td>\n",
              "    </tr>\n",
              "    <tr>\n",
              "      <th>4741</th>\n",
              "      <td>2</td>\n",
              "      <td>3</td>\n",
              "      <td>1</td>\n",
              "      <td>5</td>\n",
              "      <td>2</td>\n",
              "      <td>15000</td>\n",
              "    </tr>\n",
              "    <tr>\n",
              "      <th>4742</th>\n",
              "      <td>3</td>\n",
              "      <td>1</td>\n",
              "      <td>1</td>\n",
              "      <td>5</td>\n",
              "      <td>3</td>\n",
              "      <td>29000</td>\n",
              "    </tr>\n",
              "    <tr>\n",
              "      <th>4743</th>\n",
              "      <td>3</td>\n",
              "      <td>3</td>\n",
              "      <td>1</td>\n",
              "      <td>5</td>\n",
              "      <td>3</td>\n",
              "      <td>35000</td>\n",
              "    </tr>\n",
              "    <tr>\n",
              "      <th>4744</th>\n",
              "      <td>3</td>\n",
              "      <td>23</td>\n",
              "      <td>1</td>\n",
              "      <td>5</td>\n",
              "      <td>2</td>\n",
              "      <td>45000</td>\n",
              "    </tr>\n",
              "    <tr>\n",
              "      <th>4745</th>\n",
              "      <td>2</td>\n",
              "      <td>4</td>\n",
              "      <td>0</td>\n",
              "      <td>5</td>\n",
              "      <td>2</td>\n",
              "      <td>15000</td>\n",
              "    </tr>\n",
              "  </tbody>\n",
              "</table>\n",
              "<p>4746 rows × 6 columns</p>\n",
              "</div>\n",
              "      <button class=\"colab-df-convert\" onclick=\"convertToInteractive('df-1043a49c-8e28-4c55-b5de-087a68e71683')\"\n",
              "              title=\"Convert this dataframe to an interactive table.\"\n",
              "              style=\"display:none;\">\n",
              "        \n",
              "  <svg xmlns=\"http://www.w3.org/2000/svg\" height=\"24px\"viewBox=\"0 0 24 24\"\n",
              "       width=\"24px\">\n",
              "    <path d=\"M0 0h24v24H0V0z\" fill=\"none\"/>\n",
              "    <path d=\"M18.56 5.44l.94 2.06.94-2.06 2.06-.94-2.06-.94-.94-2.06-.94 2.06-2.06.94zm-11 1L8.5 8.5l.94-2.06 2.06-.94-2.06-.94L8.5 2.5l-.94 2.06-2.06.94zm10 10l.94 2.06.94-2.06 2.06-.94-2.06-.94-.94-2.06-.94 2.06-2.06.94z\"/><path d=\"M17.41 7.96l-1.37-1.37c-.4-.4-.92-.59-1.43-.59-.52 0-1.04.2-1.43.59L10.3 9.45l-7.72 7.72c-.78.78-.78 2.05 0 2.83L4 21.41c.39.39.9.59 1.41.59.51 0 1.02-.2 1.41-.59l7.78-7.78 2.81-2.81c.8-.78.8-2.07 0-2.86zM5.41 20L4 18.59l7.72-7.72 1.47 1.35L5.41 20z\"/>\n",
              "  </svg>\n",
              "      </button>\n",
              "      \n",
              "  <style>\n",
              "    .colab-df-container {\n",
              "      display:flex;\n",
              "      flex-wrap:wrap;\n",
              "      gap: 12px;\n",
              "    }\n",
              "\n",
              "    .colab-df-convert {\n",
              "      background-color: #E8F0FE;\n",
              "      border: none;\n",
              "      border-radius: 50%;\n",
              "      cursor: pointer;\n",
              "      display: none;\n",
              "      fill: #1967D2;\n",
              "      height: 32px;\n",
              "      padding: 0 0 0 0;\n",
              "      width: 32px;\n",
              "    }\n",
              "\n",
              "    .colab-df-convert:hover {\n",
              "      background-color: #E2EBFA;\n",
              "      box-shadow: 0px 1px 2px rgba(60, 64, 67, 0.3), 0px 1px 3px 1px rgba(60, 64, 67, 0.15);\n",
              "      fill: #174EA6;\n",
              "    }\n",
              "\n",
              "    [theme=dark] .colab-df-convert {\n",
              "      background-color: #3B4455;\n",
              "      fill: #D2E3FC;\n",
              "    }\n",
              "\n",
              "    [theme=dark] .colab-df-convert:hover {\n",
              "      background-color: #434B5C;\n",
              "      box-shadow: 0px 1px 3px 1px rgba(0, 0, 0, 0.15);\n",
              "      filter: drop-shadow(0px 1px 2px rgba(0, 0, 0, 0.3));\n",
              "      fill: #FFFFFF;\n",
              "    }\n",
              "  </style>\n",
              "\n",
              "      <script>\n",
              "        const buttonEl =\n",
              "          document.querySelector('#df-1043a49c-8e28-4c55-b5de-087a68e71683 button.colab-df-convert');\n",
              "        buttonEl.style.display =\n",
              "          google.colab.kernel.accessAllowed ? 'block' : 'none';\n",
              "\n",
              "        async function convertToInteractive(key) {\n",
              "          const element = document.querySelector('#df-1043a49c-8e28-4c55-b5de-087a68e71683');\n",
              "          const dataTable =\n",
              "            await google.colab.kernel.invokeFunction('convertToInteractive',\n",
              "                                                     [key], {});\n",
              "          if (!dataTable) return;\n",
              "\n",
              "          const docLinkHtml = 'Like what you see? Visit the ' +\n",
              "            '<a target=\"_blank\" href=https://colab.research.google.com/notebooks/data_table.ipynb>data table notebook</a>'\n",
              "            + ' to learn more about interactive tables.';\n",
              "          element.innerHTML = '';\n",
              "          dataTable['output_type'] = 'display_data';\n",
              "          await google.colab.output.renderOutput(dataTable, element);\n",
              "          const docLink = document.createElement('div');\n",
              "          docLink.innerHTML = docLinkHtml;\n",
              "          element.appendChild(docLink);\n",
              "        }\n",
              "      </script>\n",
              "    </div>\n",
              "  </div>\n",
              "  "
            ]
          },
          "metadata": {},
          "execution_count": 21
        }
      ]
    },
    {
      "cell_type": "code",
      "source": [
        "#Preparation for application of ML Model\n",
        "#input - BHK, floor location, city, number of bathrooms\n",
        "#output - rent\n",
        "x = df_res.iloc[:,:5].values    #input\n",
        "y = df_res.iloc[:,5].values          #output\n",
        "#training and testing variables\n",
        "from sklearn.model_selection import train_test_split\n",
        "x_train,x_test, y_train,y_test = train_test_split(x,y,random_state = 0)\n",
        "\n",
        "#Normalisation\n",
        "#Normalisation reducing the accuracy even further leading to worse output so avoided\n",
        "\n",
        "#Application of Logistic Regression\n",
        "from sklearn.linear_model import LogisticRegression\n",
        "model = LogisticRegression()\n",
        "model.fit(x_train,y_train)\n"
      ],
      "metadata": {
        "id": "vAVdXuKNBZ38",
        "colab": {
          "base_uri": "https://localhost:8080/"
        },
        "outputId": "efa68c8d-80ed-4d2e-bddd-733ea5bca39a"
      },
      "execution_count": null,
      "outputs": [
        {
          "output_type": "stream",
          "name": "stderr",
          "text": [
            "/usr/local/lib/python3.7/dist-packages/sklearn/linear_model/_logistic.py:818: ConvergenceWarning: lbfgs failed to converge (status=1):\n",
            "STOP: TOTAL NO. of ITERATIONS REACHED LIMIT.\n",
            "\n",
            "Increase the number of iterations (max_iter) or scale the data as shown in:\n",
            "    https://scikit-learn.org/stable/modules/preprocessing.html\n",
            "Please also refer to the documentation for alternative solver options:\n",
            "    https://scikit-learn.org/stable/modules/linear_model.html#logistic-regression\n",
            "  extra_warning_msg=_LOGISTIC_SOLVER_CONVERGENCE_MSG,\n"
          ]
        },
        {
          "output_type": "execute_result",
          "data": {
            "text/plain": [
              "LogisticRegression()"
            ]
          },
          "metadata": {},
          "execution_count": 22
        }
      ]
    },
    {
      "cell_type": "code",
      "source": [
        "#Getting output from model\n",
        "y_pred = model.predict(x_test)\n",
        "y_pred"
      ],
      "metadata": {
        "colab": {
          "base_uri": "https://localhost:8080/"
        },
        "id": "aYL5gULG6lxq",
        "outputId": "2343652e-db6d-47e9-ba3d-6fb38af4b575"
      },
      "execution_count": null,
      "outputs": [
        {
          "output_type": "execute_result",
          "data": {
            "text/plain": [
              "array([18000, 15000, 15000, ..., 15000, 15000, 15000])"
            ]
          },
          "metadata": {},
          "execution_count": 23
        }
      ]
    },
    {
      "cell_type": "code",
      "source": [
        "#individual prediction\n",
        "#BHK,floor,furnishing,city,bathroom\n",
        "inp =[]\n",
        "print('Input values for the following fields')\n",
        "a1 = (int)(input('Enter the required number of BHK\\n'))\n",
        "inp.append(a1)\n",
        "a2 =(int)(input('Enter the floor number in which you would like to have your flat in, eg. 0 for ground,1 for first,2 for second and so on..\\n'))\n",
        "inp.append(a2)\n",
        "a3 = (int)(input('Enter the type of furnishing: \\n 0 for unfurnished\\n 1 for semi-furnished\\n 2 for furnished\\n'))\n",
        "inp.append(a3)\n",
        "a4 = (int)(input('Enter the City location:\\n0 for Kolkata\\n1 for Mumbai\\n2 for Bangalore\\n3 for Delhi\\n4 for Chennai\\n5 for Hyderabad\\n'))\n",
        "inp.append(a4)\n",
        "a5 = (int)(input('Enter the required number of bathrooms\\n'))\n",
        "inp.append(a5)\n",
        "y = model.predict([inp]) #input must be 2 dimensional\n",
        "print('The possible rent as predicted by our model is INR ',y[0])"
      ],
      "metadata": {
        "colab": {
          "base_uri": "https://localhost:8080/"
        },
        "id": "5t6vkaYZ9E3i",
        "outputId": "57382103-02b2-4c8d-8c34-3ff15199e21e"
      },
      "execution_count": null,
      "outputs": [
        {
          "output_type": "stream",
          "name": "stdout",
          "text": [
            "Input values for the following fields\n",
            "Enter the required number of BHK\n",
            "1\n",
            "Enter the floor number in which you would like to have your flat in, eg. 0 for ground,1 for first,2 for second and so on..\n",
            "3\n",
            "Enter the type of furnishing: \n",
            " 0 for unfurnished\n",
            " 1 for semi-furnished\n",
            " 2 for furnished\n",
            "2\n",
            "Enter the City location:\n",
            "0 for Kolkata\n",
            "1 for Mumbai\n",
            "2 for Bangalore\n",
            "3 for Delhi\n",
            "4 for Chennai\n",
            "5 for Hyderabad\n",
            "1\n",
            "Enter the required number of bathrooms\n",
            "2\n",
            "The possible rent as predicted by our model is INR  20000\n"
          ]
        }
      ]
    },
    {
      "cell_type": "code",
      "source": [
        "model.predict([[1,3,2,1,1]])  # 1 BHK in Third floor, furnished in Mumbai with 1 bathroom"
      ],
      "metadata": {
        "colab": {
          "base_uri": "https://localhost:8080/"
        },
        "id": "mZO_wPWuALCS",
        "outputId": "adda4d52-56bf-434e-f0a2-7cd8a18e6b59"
      },
      "execution_count": null,
      "outputs": [
        {
          "output_type": "execute_result",
          "data": {
            "text/plain": [
              "array([18000])"
            ]
          },
          "metadata": {},
          "execution_count": 142
        }
      ]
    },
    {
      "cell_type": "code",
      "source": [
        "#finding the accuracy percentage\n",
        "from sklearn.metrics import accuracy_score\n",
        "print('The accuracy of the model in percentage was',accuracy_score(y_pred,y_test)*100)"
      ],
      "metadata": {
        "colab": {
          "base_uri": "https://localhost:8080/"
        },
        "id": "Gdyj95pV6wez",
        "outputId": "dfc1fec1-91dc-4253-906e-36619f294f60"
      },
      "execution_count": null,
      "outputs": [
        {
          "output_type": "stream",
          "name": "stdout",
          "text": [
            "The accuracy of the model in percentage was 6.571187868576242\n"
          ]
        }
      ]
    }
  ]
}